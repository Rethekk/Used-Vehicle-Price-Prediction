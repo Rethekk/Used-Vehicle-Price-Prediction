{
  "nbformat": 4,
  "nbformat_minor": 0,
  "metadata": {
    "colab": {
      "name": "Untitled0.ipynb",
      "provenance": [],
      "collapsed_sections": []
    },
    "kernelspec": {
      "name": "python3",
      "display_name": "Python 3"
    },
    "language_info": {
      "name": "python"
    }
  },
  "cells": [
    {
      "cell_type": "code",
      "metadata": {
        "colab": {
          "base_uri": "https://localhost:8080/",
          "height": 203
        },
        "id": "xpl-WXNSze4R",
        "outputId": "74da9b59-2ca8-4021-ec5b-8c34247d1a75"
      },
      "source": [
        "import numpy as np\n",
        "import pandas as pd\n",
        "train = pd.read_csv('/content/train.csv')\n",
        "train.head(5)"
      ],
      "execution_count": 178,
      "outputs": [
        {
          "output_type": "execute_result",
          "data": {
            "text/html": [
              "<div>\n",
              "<style scoped>\n",
              "    .dataframe tbody tr th:only-of-type {\n",
              "        vertical-align: middle;\n",
              "    }\n",
              "\n",
              "    .dataframe tbody tr th {\n",
              "        vertical-align: top;\n",
              "    }\n",
              "\n",
              "    .dataframe thead th {\n",
              "        text-align: right;\n",
              "    }\n",
              "</style>\n",
              "<table border=\"1\" class=\"dataframe\">\n",
              "  <thead>\n",
              "    <tr style=\"text-align: right;\">\n",
              "      <th></th>\n",
              "      <th>Gear_type</th>\n",
              "      <th>fuel_type</th>\n",
              "      <th>location</th>\n",
              "      <th>mileage</th>\n",
              "      <th>name</th>\n",
              "      <th>price</th>\n",
              "      <th>volume_of_fuel</th>\n",
              "      <th>year_of_manufacture</th>\n",
              "    </tr>\n",
              "  </thead>\n",
              "  <tbody>\n",
              "    <tr>\n",
              "      <th>0</th>\n",
              "      <td>Automatic</td>\n",
              "      <td>Petrol</td>\n",
              "      <td>Karachi</td>\n",
              "      <td>60000</td>\n",
              "      <td>\\nLexusRXSeries2012450HforSale\\n</td>\n",
              "      <td>9500000.0</td>\n",
              "      <td>3500</td>\n",
              "      <td>9</td>\n",
              "    </tr>\n",
              "    <tr>\n",
              "      <th>1</th>\n",
              "      <td>Automatic</td>\n",
              "      <td>Petrol</td>\n",
              "      <td>Karachi</td>\n",
              "      <td>125000</td>\n",
              "      <td>\\nToyotaLandCruiser2011AXforSale\\n</td>\n",
              "      <td>16500000.0</td>\n",
              "      <td>4600</td>\n",
              "      <td>10</td>\n",
              "    </tr>\n",
              "    <tr>\n",
              "      <th>2</th>\n",
              "      <td>Automatic</td>\n",
              "      <td>Petrol</td>\n",
              "      <td>Karachi</td>\n",
              "      <td>80000</td>\n",
              "      <td>\\nToyotaPrado2013TXLPackage2.7forSale\\n</td>\n",
              "      <td>0.0</td>\n",
              "      <td>2700</td>\n",
              "      <td>8</td>\n",
              "    </tr>\n",
              "    <tr>\n",
              "      <th>3</th>\n",
              "      <td>Automatic</td>\n",
              "      <td>Hybrid</td>\n",
              "      <td>Karachi</td>\n",
              "      <td>32914</td>\n",
              "      <td>\\nToyotaAqua2017SforSale\\n8.2/10\\n</td>\n",
              "      <td>3220000.0</td>\n",
              "      <td>1500</td>\n",
              "      <td>4</td>\n",
              "    </tr>\n",
              "    <tr>\n",
              "      <th>4</th>\n",
              "      <td>Automatic</td>\n",
              "      <td>Petrol</td>\n",
              "      <td>Karachi</td>\n",
              "      <td>92000</td>\n",
              "      <td>\\nToyotaPrado2011TX2.7forSale\\n</td>\n",
              "      <td>12500000.0</td>\n",
              "      <td>2700</td>\n",
              "      <td>10</td>\n",
              "    </tr>\n",
              "  </tbody>\n",
              "</table>\n",
              "</div>"
            ],
            "text/plain": [
              "   Gear_type fuel_type  ... volume_of_fuel  year_of_manufacture\n",
              "0  Automatic    Petrol  ...           3500                    9\n",
              "1  Automatic    Petrol  ...           4600                   10\n",
              "2  Automatic    Petrol  ...           2700                    8\n",
              "3  Automatic    Hybrid  ...           1500                    4\n",
              "4  Automatic    Petrol  ...           2700                   10\n",
              "\n",
              "[5 rows x 8 columns]"
            ]
          },
          "metadata": {
            "tags": []
          },
          "execution_count": 178
        }
      ]
    },
    {
      "cell_type": "code",
      "metadata": {
        "colab": {
          "base_uri": "https://localhost:8080/",
          "height": 417
        },
        "id": "PTdk5TjxzppB",
        "outputId": "dcd83a1d-87fb-425e-f7f5-55567408728f"
      },
      "source": [
        "train"
      ],
      "execution_count": 179,
      "outputs": [
        {
          "output_type": "execute_result",
          "data": {
            "text/html": [
              "<div>\n",
              "<style scoped>\n",
              "    .dataframe tbody tr th:only-of-type {\n",
              "        vertical-align: middle;\n",
              "    }\n",
              "\n",
              "    .dataframe tbody tr th {\n",
              "        vertical-align: top;\n",
              "    }\n",
              "\n",
              "    .dataframe thead th {\n",
              "        text-align: right;\n",
              "    }\n",
              "</style>\n",
              "<table border=\"1\" class=\"dataframe\">\n",
              "  <thead>\n",
              "    <tr style=\"text-align: right;\">\n",
              "      <th></th>\n",
              "      <th>Gear_type</th>\n",
              "      <th>fuel_type</th>\n",
              "      <th>location</th>\n",
              "      <th>mileage</th>\n",
              "      <th>name</th>\n",
              "      <th>price</th>\n",
              "      <th>volume_of_fuel</th>\n",
              "      <th>year_of_manufacture</th>\n",
              "    </tr>\n",
              "  </thead>\n",
              "  <tbody>\n",
              "    <tr>\n",
              "      <th>0</th>\n",
              "      <td>Automatic</td>\n",
              "      <td>Petrol</td>\n",
              "      <td>Karachi</td>\n",
              "      <td>60000</td>\n",
              "      <td>\\nLexusRXSeries2012450HforSale\\n</td>\n",
              "      <td>9500000.0</td>\n",
              "      <td>3500</td>\n",
              "      <td>9</td>\n",
              "    </tr>\n",
              "    <tr>\n",
              "      <th>1</th>\n",
              "      <td>Automatic</td>\n",
              "      <td>Petrol</td>\n",
              "      <td>Karachi</td>\n",
              "      <td>125000</td>\n",
              "      <td>\\nToyotaLandCruiser2011AXforSale\\n</td>\n",
              "      <td>16500000.0</td>\n",
              "      <td>4600</td>\n",
              "      <td>10</td>\n",
              "    </tr>\n",
              "    <tr>\n",
              "      <th>2</th>\n",
              "      <td>Automatic</td>\n",
              "      <td>Petrol</td>\n",
              "      <td>Karachi</td>\n",
              "      <td>80000</td>\n",
              "      <td>\\nToyotaPrado2013TXLPackage2.7forSale\\n</td>\n",
              "      <td>0.0</td>\n",
              "      <td>2700</td>\n",
              "      <td>8</td>\n",
              "    </tr>\n",
              "    <tr>\n",
              "      <th>3</th>\n",
              "      <td>Automatic</td>\n",
              "      <td>Hybrid</td>\n",
              "      <td>Karachi</td>\n",
              "      <td>32914</td>\n",
              "      <td>\\nToyotaAqua2017SforSale\\n8.2/10\\n</td>\n",
              "      <td>3220000.0</td>\n",
              "      <td>1500</td>\n",
              "      <td>4</td>\n",
              "    </tr>\n",
              "    <tr>\n",
              "      <th>4</th>\n",
              "      <td>Automatic</td>\n",
              "      <td>Petrol</td>\n",
              "      <td>Karachi</td>\n",
              "      <td>92000</td>\n",
              "      <td>\\nToyotaPrado2011TX2.7forSale\\n</td>\n",
              "      <td>12500000.0</td>\n",
              "      <td>2700</td>\n",
              "      <td>10</td>\n",
              "    </tr>\n",
              "    <tr>\n",
              "      <th>...</th>\n",
              "      <td>...</td>\n",
              "      <td>...</td>\n",
              "      <td>...</td>\n",
              "      <td>...</td>\n",
              "      <td>...</td>\n",
              "      <td>...</td>\n",
              "      <td>...</td>\n",
              "      <td>...</td>\n",
              "    </tr>\n",
              "    <tr>\n",
              "      <th>3639</th>\n",
              "      <td>Manual</td>\n",
              "      <td>Petrol</td>\n",
              "      <td>Karachi</td>\n",
              "      <td>120000</td>\n",
              "      <td>\\nSuzukiAlto2008VXRforSale\\n</td>\n",
              "      <td>620000.0</td>\n",
              "      <td>1000</td>\n",
              "      <td>13</td>\n",
              "    </tr>\n",
              "    <tr>\n",
              "      <th>3640</th>\n",
              "      <td>Automatic</td>\n",
              "      <td>Petrol</td>\n",
              "      <td>Karachi</td>\n",
              "      <td>81000</td>\n",
              "      <td>\\nToyotaLandCruiser2013AXGSelectionforSale\\n</td>\n",
              "      <td>24500000.0</td>\n",
              "      <td>4600</td>\n",
              "      <td>8</td>\n",
              "    </tr>\n",
              "    <tr>\n",
              "      <th>3641</th>\n",
              "      <td>Automatic</td>\n",
              "      <td>Petrol</td>\n",
              "      <td>Karachi</td>\n",
              "      <td>63</td>\n",
              "      <td>\\nMGZS20211.5LforSale\\n</td>\n",
              "      <td>0.0</td>\n",
              "      <td>1500</td>\n",
              "      <td>0</td>\n",
              "    </tr>\n",
              "    <tr>\n",
              "      <th>3642</th>\n",
              "      <td>Automatic</td>\n",
              "      <td>Petrol</td>\n",
              "      <td>Karachi</td>\n",
              "      <td>110000</td>\n",
              "      <td>\\nSuzukiEvery2013forSale\\n</td>\n",
              "      <td>1380000.0</td>\n",
              "      <td>660</td>\n",
              "      <td>8</td>\n",
              "    </tr>\n",
              "    <tr>\n",
              "      <th>3643</th>\n",
              "      <td>Automatic</td>\n",
              "      <td>Petrol</td>\n",
              "      <td>Karachi</td>\n",
              "      <td>133000</td>\n",
              "      <td>\\nToyotaTownAce2008forSale\\n</td>\n",
              "      <td>1500000.0</td>\n",
              "      <td>1500</td>\n",
              "      <td>13</td>\n",
              "    </tr>\n",
              "  </tbody>\n",
              "</table>\n",
              "<p>3644 rows × 8 columns</p>\n",
              "</div>"
            ],
            "text/plain": [
              "      Gear_type fuel_type  ... volume_of_fuel  year_of_manufacture\n",
              "0     Automatic    Petrol  ...           3500                    9\n",
              "1     Automatic    Petrol  ...           4600                   10\n",
              "2     Automatic    Petrol  ...           2700                    8\n",
              "3     Automatic    Hybrid  ...           1500                    4\n",
              "4     Automatic    Petrol  ...           2700                   10\n",
              "...         ...       ...  ...            ...                  ...\n",
              "3639     Manual    Petrol  ...           1000                   13\n",
              "3640  Automatic    Petrol  ...           4600                    8\n",
              "3641  Automatic    Petrol  ...           1500                    0\n",
              "3642  Automatic    Petrol  ...            660                    8\n",
              "3643  Automatic    Petrol  ...           1500                   13\n",
              "\n",
              "[3644 rows x 8 columns]"
            ]
          },
          "metadata": {
            "tags": []
          },
          "execution_count": 179
        }
      ]
    },
    {
      "cell_type": "code",
      "metadata": {
        "colab": {
          "base_uri": "https://localhost:8080/"
        },
        "id": "oh6t4nhg2w-7",
        "outputId": "e33d820d-1296-4c57-fdf6-f3af20993643"
      },
      "source": [
        "for i in train.index:\n",
        "  if train.Gear_type.loc[i]=='Automatic':\n",
        "    train.Gear_type.loc[i]=int(0)\n",
        "  elif train.Gear_type.loc[i]=='Manual':\n",
        "    train.Gear_type.loc[i]=int(1)\n",
        "\n",
        "for i in train.index:\n",
        "  if train.fuel_type.loc[i]=='Petrol':\n",
        "    train.fuel_type.loc[i]=int(0)\n",
        "  elif train.fuel_type.loc[i]=='Diesel':\n",
        "    train.fuel_type.loc[i]=int(1)\n",
        "  elif train.fuel_type.loc[i]=='Hybrid':\n",
        "    train.fuel_type.loc[i]=int(2)\n",
        "  elif train.fuel_type.loc[i]=='CNG':\n",
        "    train.fuel_type.loc[i]=int(3)\n"
      ],
      "execution_count": 180,
      "outputs": [
        {
          "output_type": "stream",
          "text": [
            "/usr/local/lib/python3.7/dist-packages/pandas/core/indexing.py:670: SettingWithCopyWarning: \n",
            "A value is trying to be set on a copy of a slice from a DataFrame\n",
            "\n",
            "See the caveats in the documentation: https://pandas.pydata.org/pandas-docs/stable/user_guide/indexing.html#returning-a-view-versus-a-copy\n",
            "  iloc._setitem_with_indexer(indexer, value)\n"
          ],
          "name": "stderr"
        }
      ]
    },
    {
      "cell_type": "code",
      "metadata": {
        "id": "D147tPgo3W6f"
      },
      "source": [
        "train = train.drop(columns=\"location\")\n",
        "\n",
        "train.price=train.price/10000"
      ],
      "execution_count": 181,
      "outputs": []
    },
    {
      "cell_type": "code",
      "metadata": {
        "colab": {
          "base_uri": "https://localhost:8080/",
          "height": 172
        },
        "id": "wWa48xzL0m1h",
        "outputId": "6d31d4e0-c12e-44e1-d360-5a951f42b806"
      },
      "source": [
        "train.corr()"
      ],
      "execution_count": 182,
      "outputs": [
        {
          "output_type": "execute_result",
          "data": {
            "text/html": [
              "<div>\n",
              "<style scoped>\n",
              "    .dataframe tbody tr th:only-of-type {\n",
              "        vertical-align: middle;\n",
              "    }\n",
              "\n",
              "    .dataframe tbody tr th {\n",
              "        vertical-align: top;\n",
              "    }\n",
              "\n",
              "    .dataframe thead th {\n",
              "        text-align: right;\n",
              "    }\n",
              "</style>\n",
              "<table border=\"1\" class=\"dataframe\">\n",
              "  <thead>\n",
              "    <tr style=\"text-align: right;\">\n",
              "      <th></th>\n",
              "      <th>mileage</th>\n",
              "      <th>price</th>\n",
              "      <th>volume_of_fuel</th>\n",
              "      <th>year_of_manufacture</th>\n",
              "    </tr>\n",
              "  </thead>\n",
              "  <tbody>\n",
              "    <tr>\n",
              "      <th>mileage</th>\n",
              "      <td>1.000000</td>\n",
              "      <td>-0.173428</td>\n",
              "      <td>-0.108451</td>\n",
              "      <td>0.497618</td>\n",
              "    </tr>\n",
              "    <tr>\n",
              "      <th>price</th>\n",
              "      <td>-0.173428</td>\n",
              "      <td>1.000000</td>\n",
              "      <td>0.590946</td>\n",
              "      <td>-0.184331</td>\n",
              "    </tr>\n",
              "    <tr>\n",
              "      <th>volume_of_fuel</th>\n",
              "      <td>-0.108451</td>\n",
              "      <td>0.590946</td>\n",
              "      <td>1.000000</td>\n",
              "      <td>-0.024597</td>\n",
              "    </tr>\n",
              "    <tr>\n",
              "      <th>year_of_manufacture</th>\n",
              "      <td>0.497618</td>\n",
              "      <td>-0.184331</td>\n",
              "      <td>-0.024597</td>\n",
              "      <td>1.000000</td>\n",
              "    </tr>\n",
              "  </tbody>\n",
              "</table>\n",
              "</div>"
            ],
            "text/plain": [
              "                      mileage     price  volume_of_fuel  year_of_manufacture\n",
              "mileage              1.000000 -0.173428       -0.108451             0.497618\n",
              "price               -0.173428  1.000000        0.590946            -0.184331\n",
              "volume_of_fuel      -0.108451  0.590946        1.000000            -0.024597\n",
              "year_of_manufacture  0.497618 -0.184331       -0.024597             1.000000"
            ]
          },
          "metadata": {
            "tags": []
          },
          "execution_count": 182
        }
      ]
    },
    {
      "cell_type": "code",
      "metadata": {
        "colab": {
          "base_uri": "https://localhost:8080/",
          "height": 203
        },
        "id": "EluVrTT70vZJ",
        "outputId": "7f87c755-3c91-4c1c-cc10-a758c31e5a9a"
      },
      "source": [
        "test=pd.read_csv('/content/test.csv')\n",
        "test.tail(5)"
      ],
      "execution_count": 183,
      "outputs": [
        {
          "output_type": "execute_result",
          "data": {
            "text/html": [
              "<div>\n",
              "<style scoped>\n",
              "    .dataframe tbody tr th:only-of-type {\n",
              "        vertical-align: middle;\n",
              "    }\n",
              "\n",
              "    .dataframe tbody tr th {\n",
              "        vertical-align: top;\n",
              "    }\n",
              "\n",
              "    .dataframe thead th {\n",
              "        text-align: right;\n",
              "    }\n",
              "</style>\n",
              "<table border=\"1\" class=\"dataframe\">\n",
              "  <thead>\n",
              "    <tr style=\"text-align: right;\">\n",
              "      <th></th>\n",
              "      <th>Gear_type</th>\n",
              "      <th>fuel_type</th>\n",
              "      <th>location</th>\n",
              "      <th>mileage</th>\n",
              "      <th>name</th>\n",
              "      <th>price</th>\n",
              "      <th>volume_of_fuel</th>\n",
              "      <th>year_of_manufacture</th>\n",
              "    </tr>\n",
              "  </thead>\n",
              "  <tbody>\n",
              "    <tr>\n",
              "      <th>974</th>\n",
              "      <td>Automatic</td>\n",
              "      <td>Petrol</td>\n",
              "      <td>Karachi</td>\n",
              "      <td>132</td>\n",
              "      <td>\\nHondaCity20121.3i-VTECProsmatecforSale\\n</td>\n",
              "      <td>1600000.0</td>\n",
              "      <td>1300</td>\n",
              "      <td>9</td>\n",
              "    </tr>\n",
              "    <tr>\n",
              "      <th>975</th>\n",
              "      <td>Automatic</td>\n",
              "      <td>Hybrid</td>\n",
              "      <td>Karachi</td>\n",
              "      <td>18000</td>\n",
              "      <td>\\nToyotaCorollaAxio2018Hybrid1.5forSale\\n</td>\n",
              "      <td>4300000.0</td>\n",
              "      <td>1500</td>\n",
              "      <td>3</td>\n",
              "    </tr>\n",
              "    <tr>\n",
              "      <th>976</th>\n",
              "      <td>Automatic</td>\n",
              "      <td>Petrol</td>\n",
              "      <td>Karachi</td>\n",
              "      <td>92000</td>\n",
              "      <td>\\nDaihatsuHijet2014SpecialforSale\\n</td>\n",
              "      <td>1285000.0</td>\n",
              "      <td>660</td>\n",
              "      <td>7</td>\n",
              "    </tr>\n",
              "    <tr>\n",
              "      <th>977</th>\n",
              "      <td>Manual</td>\n",
              "      <td>Petrol</td>\n",
              "      <td>Karachi</td>\n",
              "      <td>83000</td>\n",
              "      <td>\\nToyotaCorolla2014GLi1.3VVTiforSale\\n</td>\n",
              "      <td>2225000.0</td>\n",
              "      <td>1300</td>\n",
              "      <td>7</td>\n",
              "    </tr>\n",
              "    <tr>\n",
              "      <th>978</th>\n",
              "      <td>Automatic</td>\n",
              "      <td>Hybrid</td>\n",
              "      <td>Karachi</td>\n",
              "      <td>120000</td>\n",
              "      <td>\\nToyotaAqua2012forSale\\n</td>\n",
              "      <td>2250000.0</td>\n",
              "      <td>1500</td>\n",
              "      <td>9</td>\n",
              "    </tr>\n",
              "  </tbody>\n",
              "</table>\n",
              "</div>"
            ],
            "text/plain": [
              "     Gear_type fuel_type  ... volume_of_fuel  year_of_manufacture\n",
              "974  Automatic    Petrol  ...           1300                    9\n",
              "975  Automatic    Hybrid  ...           1500                    3\n",
              "976  Automatic    Petrol  ...            660                    7\n",
              "977     Manual    Petrol  ...           1300                    7\n",
              "978  Automatic    Hybrid  ...           1500                    9\n",
              "\n",
              "[5 rows x 8 columns]"
            ]
          },
          "metadata": {
            "tags": []
          },
          "execution_count": 183
        }
      ]
    },
    {
      "cell_type": "code",
      "metadata": {
        "colab": {
          "base_uri": "https://localhost:8080/"
        },
        "id": "zcoEscG43DTa",
        "outputId": "7bf29a91-0a63-4afd-be3a-a09d16d6e114"
      },
      "source": [
        "for i in test.index:\n",
        "  if test.Gear_type.loc[i]=='Automatic':\n",
        "    test.Gear_type.loc[i]=int(0)\n",
        "  elif test.Gear_type.loc[i]=='Manual':\n",
        "    test.Gear_type.loc[i]=int(1)\n",
        "\n",
        "for i in test.index:\n",
        "  if test.fuel_type.loc[i]=='Petrol':\n",
        "    test.fuel_type.loc[i]=int(0)\n",
        "  elif test.fuel_type.loc[i]=='Diesel':\n",
        "    test.fuel_type.loc[i]=int(1)\n",
        "  elif test.fuel_type.loc[i]=='Hybrid':\n",
        "    test.fuel_type.loc[i]=int(2)\n",
        "  elif test.fuel_type.loc[i]=='CNG':\n",
        "    test.fuel_type.loc[i]=int(3)"
      ],
      "execution_count": 184,
      "outputs": [
        {
          "output_type": "stream",
          "text": [
            "/usr/local/lib/python3.7/dist-packages/pandas/core/indexing.py:670: SettingWithCopyWarning: \n",
            "A value is trying to be set on a copy of a slice from a DataFrame\n",
            "\n",
            "See the caveats in the documentation: https://pandas.pydata.org/pandas-docs/stable/user_guide/indexing.html#returning-a-view-versus-a-copy\n",
            "  iloc._setitem_with_indexer(indexer, value)\n"
          ],
          "name": "stderr"
        }
      ]
    },
    {
      "cell_type": "code",
      "metadata": {
        "id": "ossod0uC38Ji"
      },
      "source": [
        "test = test.drop(columns=\"location\")"
      ],
      "execution_count": 185,
      "outputs": []
    },
    {
      "cell_type": "code",
      "metadata": {
        "id": "5uW9xTzc4HD1"
      },
      "source": [
        "test = test.drop(columns=\"name\")\n",
        "test.price=test.price/10000"
      ],
      "execution_count": 186,
      "outputs": []
    },
    {
      "cell_type": "code",
      "metadata": {
        "id": "g5lMRBdd4Uvm"
      },
      "source": [
        "train=train.drop(columns=\"name\")"
      ],
      "execution_count": 187,
      "outputs": []
    },
    {
      "cell_type": "code",
      "metadata": {
        "colab": {
          "base_uri": "https://localhost:8080/"
        },
        "id": "ZW5xWQOM0vwc",
        "outputId": "e3df51db-bac4-4d4f-920e-9a8a68e8590a"
      },
      "source": [
        "from sklearn.ensemble import ExtraTreesRegressor\n",
        "model = ExtraTreesRegressor()\n",
        "model.fit(train,train.price)"
      ],
      "execution_count": 188,
      "outputs": [
        {
          "output_type": "execute_result",
          "data": {
            "text/plain": [
              "ExtraTreesRegressor(bootstrap=False, ccp_alpha=0.0, criterion='mse',\n",
              "                    max_depth=None, max_features='auto', max_leaf_nodes=None,\n",
              "                    max_samples=None, min_impurity_decrease=0.0,\n",
              "                    min_impurity_split=None, min_samples_leaf=1,\n",
              "                    min_samples_split=2, min_weight_fraction_leaf=0.0,\n",
              "                    n_estimators=100, n_jobs=None, oob_score=False,\n",
              "                    random_state=None, verbose=0, warm_start=False)"
            ]
          },
          "metadata": {
            "tags": []
          },
          "execution_count": 188
        }
      ]
    },
    {
      "cell_type": "code",
      "metadata": {
        "id": "YXICOgHE1TYB",
        "colab": {
          "base_uri": "https://localhost:8080/"
        },
        "outputId": "6d3b4cd5-b60c-45cd-b96c-e4f6c6f3b2ef"
      },
      "source": [
        "model.feature_importances_"
      ],
      "execution_count": 189,
      "outputs": [
        {
          "output_type": "execute_result",
          "data": {
            "text/plain": [
              "array([5.06419779e-03, 1.46038387e-04, 5.26973844e-04, 9.29101943e-01,\n",
              "       6.33222662e-02, 1.83858099e-03])"
            ]
          },
          "metadata": {
            "tags": []
          },
          "execution_count": 189
        }
      ]
    },
    {
      "cell_type": "code",
      "metadata": {
        "id": "Nm1RREMl4zFp"
      },
      "source": [
        "from sklearn import linear_model\n",
        "\n",
        "regression=linear_model.LinearRegression()\n"
      ],
      "execution_count": 190,
      "outputs": []
    },
    {
      "cell_type": "code",
      "metadata": {
        "id": "qsQuSxzc9_3r"
      },
      "source": [
        "n_estimators = [int(x) for x in np.linspace(start = 100, stop = 1200,num = 12)]\n",
        "max_features = ['auto','sqrt']\n",
        "max_depth = [int(x) for x in np.linspace(5,30,num = 6)]\n",
        "min_samples_split = [2,5,10,15,100]\n",
        "min_samples_leaf  = [1,2,5,10]"
      ],
      "execution_count": 191,
      "outputs": []
    },
    {
      "cell_type": "code",
      "metadata": {
        "colab": {
          "base_uri": "https://localhost:8080/"
        },
        "id": "fbmJcMrt-VXD",
        "outputId": "fd85628d-3cc0-4bc4-f59c-15032b16d884"
      },
      "source": [
        "grid = {'n_estimators': n_estimators,\n",
        "        'max_features': max_features,\n",
        "        'max_depth': max_depth,\n",
        "        'min_samples_split': min_samples_split,\n",
        "       'min_samples_leaf': min_samples_leaf}\n",
        "print(grid)"
      ],
      "execution_count": 192,
      "outputs": [
        {
          "output_type": "stream",
          "text": [
            "{'n_estimators': [100, 200, 300, 400, 500, 600, 700, 800, 900, 1000, 1100, 1200], 'max_features': ['auto', 'sqrt'], 'max_depth': [5, 10, 15, 20, 25, 30], 'min_samples_split': [2, 5, 10, 15, 100], 'min_samples_leaf': [1, 2, 5, 10]}\n"
          ],
          "name": "stdout"
        }
      ]
    },
    {
      "cell_type": "code",
      "metadata": {
        "id": "R_L4Memv5Ypa",
        "colab": {
          "base_uri": "https://localhost:8080/"
        },
        "outputId": "4f8973cc-a7d3-4f54-8d38-9af99a58fd31"
      },
      "source": [
        "from sklearn.ensemble import RandomForestRegressor \n",
        "from sklearn.model_selection import RandomizedSearchCV\n",
        "model = RandomForestRegressor() \n",
        "hyp = RandomizedSearchCV(estimator = model,param_distributions=grid,n_iter=10,scoring= 'neg_mean_squared_error',cv=5,verbose = 2,random_state = 42,n_jobs = 1) \n",
        "hyp.fit(train,train.price)"
      ],
      "execution_count": 193,
      "outputs": [
        {
          "output_type": "stream",
          "text": [
            "Fitting 5 folds for each of 10 candidates, totalling 50 fits\n",
            "[CV] n_estimators=900, min_samples_split=5, min_samples_leaf=5, max_features=sqrt, max_depth=10 \n"
          ],
          "name": "stdout"
        },
        {
          "output_type": "stream",
          "text": [
            "[Parallel(n_jobs=1)]: Using backend SequentialBackend with 1 concurrent workers.\n"
          ],
          "name": "stderr"
        },
        {
          "output_type": "stream",
          "text": [
            "[CV]  n_estimators=900, min_samples_split=5, min_samples_leaf=5, max_features=sqrt, max_depth=10, total=   2.9s\n",
            "[CV] n_estimators=900, min_samples_split=5, min_samples_leaf=5, max_features=sqrt, max_depth=10 \n"
          ],
          "name": "stdout"
        },
        {
          "output_type": "stream",
          "text": [
            "[Parallel(n_jobs=1)]: Done   1 out of   1 | elapsed:    2.9s remaining:    0.0s\n"
          ],
          "name": "stderr"
        },
        {
          "output_type": "stream",
          "text": [
            "[CV]  n_estimators=900, min_samples_split=5, min_samples_leaf=5, max_features=sqrt, max_depth=10, total=   2.8s\n",
            "[CV] n_estimators=900, min_samples_split=5, min_samples_leaf=5, max_features=sqrt, max_depth=10 \n",
            "[CV]  n_estimators=900, min_samples_split=5, min_samples_leaf=5, max_features=sqrt, max_depth=10, total=   2.8s\n",
            "[CV] n_estimators=900, min_samples_split=5, min_samples_leaf=5, max_features=sqrt, max_depth=10 \n",
            "[CV]  n_estimators=900, min_samples_split=5, min_samples_leaf=5, max_features=sqrt, max_depth=10, total=   2.8s\n",
            "[CV] n_estimators=900, min_samples_split=5, min_samples_leaf=5, max_features=sqrt, max_depth=10 \n",
            "[CV]  n_estimators=900, min_samples_split=5, min_samples_leaf=5, max_features=sqrt, max_depth=10, total=   2.8s\n",
            "[CV] n_estimators=1100, min_samples_split=10, min_samples_leaf=2, max_features=sqrt, max_depth=15 \n",
            "[CV]  n_estimators=1100, min_samples_split=10, min_samples_leaf=2, max_features=sqrt, max_depth=15, total=   3.9s\n",
            "[CV] n_estimators=1100, min_samples_split=10, min_samples_leaf=2, max_features=sqrt, max_depth=15 \n",
            "[CV]  n_estimators=1100, min_samples_split=10, min_samples_leaf=2, max_features=sqrt, max_depth=15, total=   3.8s\n",
            "[CV] n_estimators=1100, min_samples_split=10, min_samples_leaf=2, max_features=sqrt, max_depth=15 \n",
            "[CV]  n_estimators=1100, min_samples_split=10, min_samples_leaf=2, max_features=sqrt, max_depth=15, total=   3.8s\n",
            "[CV] n_estimators=1100, min_samples_split=10, min_samples_leaf=2, max_features=sqrt, max_depth=15 \n",
            "[CV]  n_estimators=1100, min_samples_split=10, min_samples_leaf=2, max_features=sqrt, max_depth=15, total=   3.7s\n",
            "[CV] n_estimators=1100, min_samples_split=10, min_samples_leaf=2, max_features=sqrt, max_depth=15 \n",
            "[CV]  n_estimators=1100, min_samples_split=10, min_samples_leaf=2, max_features=sqrt, max_depth=15, total=   3.8s\n",
            "[CV] n_estimators=300, min_samples_split=100, min_samples_leaf=5, max_features=auto, max_depth=15 \n",
            "[CV]  n_estimators=300, min_samples_split=100, min_samples_leaf=5, max_features=auto, max_depth=15, total=   1.3s\n",
            "[CV] n_estimators=300, min_samples_split=100, min_samples_leaf=5, max_features=auto, max_depth=15 \n",
            "[CV]  n_estimators=300, min_samples_split=100, min_samples_leaf=5, max_features=auto, max_depth=15, total=   1.3s\n",
            "[CV] n_estimators=300, min_samples_split=100, min_samples_leaf=5, max_features=auto, max_depth=15 \n",
            "[CV]  n_estimators=300, min_samples_split=100, min_samples_leaf=5, max_features=auto, max_depth=15, total=   1.3s\n",
            "[CV] n_estimators=300, min_samples_split=100, min_samples_leaf=5, max_features=auto, max_depth=15 \n",
            "[CV]  n_estimators=300, min_samples_split=100, min_samples_leaf=5, max_features=auto, max_depth=15, total=   1.3s\n",
            "[CV] n_estimators=300, min_samples_split=100, min_samples_leaf=5, max_features=auto, max_depth=15 \n",
            "[CV]  n_estimators=300, min_samples_split=100, min_samples_leaf=5, max_features=auto, max_depth=15, total=   1.3s\n",
            "[CV] n_estimators=400, min_samples_split=5, min_samples_leaf=5, max_features=auto, max_depth=15 \n",
            "[CV]  n_estimators=400, min_samples_split=5, min_samples_leaf=5, max_features=auto, max_depth=15, total=   2.4s\n",
            "[CV] n_estimators=400, min_samples_split=5, min_samples_leaf=5, max_features=auto, max_depth=15 \n",
            "[CV]  n_estimators=400, min_samples_split=5, min_samples_leaf=5, max_features=auto, max_depth=15, total=   2.3s\n",
            "[CV] n_estimators=400, min_samples_split=5, min_samples_leaf=5, max_features=auto, max_depth=15 \n",
            "[CV]  n_estimators=400, min_samples_split=5, min_samples_leaf=5, max_features=auto, max_depth=15, total=   2.3s\n",
            "[CV] n_estimators=400, min_samples_split=5, min_samples_leaf=5, max_features=auto, max_depth=15 \n",
            "[CV]  n_estimators=400, min_samples_split=5, min_samples_leaf=5, max_features=auto, max_depth=15, total=   2.4s\n",
            "[CV] n_estimators=400, min_samples_split=5, min_samples_leaf=5, max_features=auto, max_depth=15 \n",
            "[CV]  n_estimators=400, min_samples_split=5, min_samples_leaf=5, max_features=auto, max_depth=15, total=   2.4s\n",
            "[CV] n_estimators=700, min_samples_split=5, min_samples_leaf=10, max_features=auto, max_depth=20 \n",
            "[CV]  n_estimators=700, min_samples_split=5, min_samples_leaf=10, max_features=auto, max_depth=20, total=   3.8s\n",
            "[CV] n_estimators=700, min_samples_split=5, min_samples_leaf=10, max_features=auto, max_depth=20 \n",
            "[CV]  n_estimators=700, min_samples_split=5, min_samples_leaf=10, max_features=auto, max_depth=20, total=   3.7s\n",
            "[CV] n_estimators=700, min_samples_split=5, min_samples_leaf=10, max_features=auto, max_depth=20 \n",
            "[CV]  n_estimators=700, min_samples_split=5, min_samples_leaf=10, max_features=auto, max_depth=20, total=   3.7s\n",
            "[CV] n_estimators=700, min_samples_split=5, min_samples_leaf=10, max_features=auto, max_depth=20 \n",
            "[CV]  n_estimators=700, min_samples_split=5, min_samples_leaf=10, max_features=auto, max_depth=20, total=   3.7s\n",
            "[CV] n_estimators=700, min_samples_split=5, min_samples_leaf=10, max_features=auto, max_depth=20 \n",
            "[CV]  n_estimators=700, min_samples_split=5, min_samples_leaf=10, max_features=auto, max_depth=20, total=   3.7s\n",
            "[CV] n_estimators=1000, min_samples_split=2, min_samples_leaf=1, max_features=sqrt, max_depth=25 \n",
            "[CV]  n_estimators=1000, min_samples_split=2, min_samples_leaf=1, max_features=sqrt, max_depth=25, total=   4.7s\n",
            "[CV] n_estimators=1000, min_samples_split=2, min_samples_leaf=1, max_features=sqrt, max_depth=25 \n",
            "[CV]  n_estimators=1000, min_samples_split=2, min_samples_leaf=1, max_features=sqrt, max_depth=25, total=   4.6s\n",
            "[CV] n_estimators=1000, min_samples_split=2, min_samples_leaf=1, max_features=sqrt, max_depth=25 \n",
            "[CV]  n_estimators=1000, min_samples_split=2, min_samples_leaf=1, max_features=sqrt, max_depth=25, total=   4.6s\n",
            "[CV] n_estimators=1000, min_samples_split=2, min_samples_leaf=1, max_features=sqrt, max_depth=25 \n",
            "[CV]  n_estimators=1000, min_samples_split=2, min_samples_leaf=1, max_features=sqrt, max_depth=25, total=   4.4s\n",
            "[CV] n_estimators=1000, min_samples_split=2, min_samples_leaf=1, max_features=sqrt, max_depth=25 \n",
            "[CV]  n_estimators=1000, min_samples_split=2, min_samples_leaf=1, max_features=sqrt, max_depth=25, total=   4.5s\n",
            "[CV] n_estimators=1100, min_samples_split=15, min_samples_leaf=10, max_features=sqrt, max_depth=5 \n",
            "[CV]  n_estimators=1100, min_samples_split=15, min_samples_leaf=10, max_features=sqrt, max_depth=5, total=   2.5s\n",
            "[CV] n_estimators=1100, min_samples_split=15, min_samples_leaf=10, max_features=sqrt, max_depth=5 \n",
            "[CV]  n_estimators=1100, min_samples_split=15, min_samples_leaf=10, max_features=sqrt, max_depth=5, total=   2.5s\n",
            "[CV] n_estimators=1100, min_samples_split=15, min_samples_leaf=10, max_features=sqrt, max_depth=5 \n",
            "[CV]  n_estimators=1100, min_samples_split=15, min_samples_leaf=10, max_features=sqrt, max_depth=5, total=   2.4s\n",
            "[CV] n_estimators=1100, min_samples_split=15, min_samples_leaf=10, max_features=sqrt, max_depth=5 \n",
            "[CV]  n_estimators=1100, min_samples_split=15, min_samples_leaf=10, max_features=sqrt, max_depth=5, total=   2.5s\n",
            "[CV] n_estimators=1100, min_samples_split=15, min_samples_leaf=10, max_features=sqrt, max_depth=5 \n",
            "[CV]  n_estimators=1100, min_samples_split=15, min_samples_leaf=10, max_features=sqrt, max_depth=5, total=   2.4s\n",
            "[CV] n_estimators=300, min_samples_split=15, min_samples_leaf=1, max_features=sqrt, max_depth=15 \n",
            "[CV]  n_estimators=300, min_samples_split=15, min_samples_leaf=1, max_features=sqrt, max_depth=15, total=   1.0s\n",
            "[CV] n_estimators=300, min_samples_split=15, min_samples_leaf=1, max_features=sqrt, max_depth=15 \n",
            "[CV]  n_estimators=300, min_samples_split=15, min_samples_leaf=1, max_features=sqrt, max_depth=15, total=   1.0s\n",
            "[CV] n_estimators=300, min_samples_split=15, min_samples_leaf=1, max_features=sqrt, max_depth=15 \n",
            "[CV]  n_estimators=300, min_samples_split=15, min_samples_leaf=1, max_features=sqrt, max_depth=15, total=   1.0s\n",
            "[CV] n_estimators=300, min_samples_split=15, min_samples_leaf=1, max_features=sqrt, max_depth=15 \n",
            "[CV]  n_estimators=300, min_samples_split=15, min_samples_leaf=1, max_features=sqrt, max_depth=15, total=   1.1s\n",
            "[CV] n_estimators=300, min_samples_split=15, min_samples_leaf=1, max_features=sqrt, max_depth=15 \n",
            "[CV]  n_estimators=300, min_samples_split=15, min_samples_leaf=1, max_features=sqrt, max_depth=15, total=   1.0s\n",
            "[CV] n_estimators=700, min_samples_split=10, min_samples_leaf=2, max_features=sqrt, max_depth=5 \n",
            "[CV]  n_estimators=700, min_samples_split=10, min_samples_leaf=2, max_features=sqrt, max_depth=5, total=   1.6s\n",
            "[CV] n_estimators=700, min_samples_split=10, min_samples_leaf=2, max_features=sqrt, max_depth=5 \n",
            "[CV]  n_estimators=700, min_samples_split=10, min_samples_leaf=2, max_features=sqrt, max_depth=5, total=   1.6s\n",
            "[CV] n_estimators=700, min_samples_split=10, min_samples_leaf=2, max_features=sqrt, max_depth=5 \n",
            "[CV]  n_estimators=700, min_samples_split=10, min_samples_leaf=2, max_features=sqrt, max_depth=5, total=   1.6s\n",
            "[CV] n_estimators=700, min_samples_split=10, min_samples_leaf=2, max_features=sqrt, max_depth=5 \n",
            "[CV]  n_estimators=700, min_samples_split=10, min_samples_leaf=2, max_features=sqrt, max_depth=5, total=   1.6s\n",
            "[CV] n_estimators=700, min_samples_split=10, min_samples_leaf=2, max_features=sqrt, max_depth=5 \n",
            "[CV]  n_estimators=700, min_samples_split=10, min_samples_leaf=2, max_features=sqrt, max_depth=5, total=   1.5s\n",
            "[CV] n_estimators=700, min_samples_split=15, min_samples_leaf=1, max_features=auto, max_depth=20 \n",
            "[CV]  n_estimators=700, min_samples_split=15, min_samples_leaf=1, max_features=auto, max_depth=20, total=   4.0s\n",
            "[CV] n_estimators=700, min_samples_split=15, min_samples_leaf=1, max_features=auto, max_depth=20 \n",
            "[CV]  n_estimators=700, min_samples_split=15, min_samples_leaf=1, max_features=auto, max_depth=20, total=   4.0s\n",
            "[CV] n_estimators=700, min_samples_split=15, min_samples_leaf=1, max_features=auto, max_depth=20 \n",
            "[CV]  n_estimators=700, min_samples_split=15, min_samples_leaf=1, max_features=auto, max_depth=20, total=   3.9s\n",
            "[CV] n_estimators=700, min_samples_split=15, min_samples_leaf=1, max_features=auto, max_depth=20 \n",
            "[CV]  n_estimators=700, min_samples_split=15, min_samples_leaf=1, max_features=auto, max_depth=20, total=   4.0s\n",
            "[CV] n_estimators=700, min_samples_split=15, min_samples_leaf=1, max_features=auto, max_depth=20 \n",
            "[CV]  n_estimators=700, min_samples_split=15, min_samples_leaf=1, max_features=auto, max_depth=20, total=   4.0s\n"
          ],
          "name": "stdout"
        },
        {
          "output_type": "stream",
          "text": [
            "[Parallel(n_jobs=1)]: Done  50 out of  50 | elapsed:  2.3min finished\n"
          ],
          "name": "stderr"
        },
        {
          "output_type": "execute_result",
          "data": {
            "text/plain": [
              "RandomizedSearchCV(cv=5, error_score=nan,\n",
              "                   estimator=RandomForestRegressor(bootstrap=True,\n",
              "                                                   ccp_alpha=0.0,\n",
              "                                                   criterion='mse',\n",
              "                                                   max_depth=None,\n",
              "                                                   max_features='auto',\n",
              "                                                   max_leaf_nodes=None,\n",
              "                                                   max_samples=None,\n",
              "                                                   min_impurity_decrease=0.0,\n",
              "                                                   min_impurity_split=None,\n",
              "                                                   min_samples_leaf=1,\n",
              "                                                   min_samples_split=2,\n",
              "                                                   min_weight_fraction_leaf=0.0,\n",
              "                                                   n_estimators=100,\n",
              "                                                   n_jobs=None, oob_score=Fals...\n",
              "                   iid='deprecated', n_iter=10, n_jobs=1,\n",
              "                   param_distributions={'max_depth': [5, 10, 15, 20, 25, 30],\n",
              "                                        'max_features': ['auto', 'sqrt'],\n",
              "                                        'min_samples_leaf': [1, 2, 5, 10],\n",
              "                                        'min_samples_split': [2, 5, 10, 15,\n",
              "                                                              100],\n",
              "                                        'n_estimators': [100, 200, 300, 400,\n",
              "                                                         500, 600, 700, 800,\n",
              "                                                         900, 1000, 1100,\n",
              "                                                         1200]},\n",
              "                   pre_dispatch='2*n_jobs', random_state=42, refit=True,\n",
              "                   return_train_score=False, scoring='neg_mean_squared_error',\n",
              "                   verbose=2)"
            ]
          },
          "metadata": {
            "tags": []
          },
          "execution_count": 193
        }
      ]
    },
    {
      "cell_type": "code",
      "metadata": {
        "id": "5kiSfNfF5DdX",
        "colab": {
          "base_uri": "https://localhost:8080/"
        },
        "outputId": "ade8802f-b382-4d02-b9e0-7d538ee36ccf"
      },
      "source": [
        "prediction = hyp.predict(test)\n",
        "prediction=np.round(prediction)\n",
        "check=np.round(test.price)\n",
        "print(str(check[0:5])+\"   \"+str(prediction[0:5]))"
      ],
      "execution_count": 194,
      "outputs": [
        {
          "output_type": "stream",
          "text": [
            "0    228.0\n",
            "1    635.0\n",
            "2    700.0\n",
            "3    430.0\n",
            "4    455.0\n",
            "Name: price, dtype: float64   [228. 632. 700. 430. 453.]\n"
          ],
          "name": "stdout"
        }
      ]
    },
    {
      "cell_type": "code",
      "metadata": {
        "id": "tA23jWXl710o",
        "colab": {
          "base_uri": "https://localhost:8080/"
        },
        "outputId": "5ca62103-dacf-459a-b744-acdec697f679"
      },
      "source": [
        "from sklearn.metrics import r2_score\n",
        "print(r2_score(check,prediction))"
      ],
      "execution_count": 195,
      "outputs": [
        {
          "output_type": "stream",
          "text": [
            "0.9988801556168777\n"
          ],
          "name": "stdout"
        }
      ]
    },
    {
      "cell_type": "code",
      "metadata": {
        "id": "rv7TsLQu_tUF"
      },
      "source": [
        " from sklearn.metrics import accuracy_score"
      ],
      "execution_count": 196,
      "outputs": []
    },
    {
      "cell_type": "code",
      "metadata": {
        "colab": {
          "base_uri": "https://localhost:8080/"
        },
        "id": "ZN8jsSagS-jn",
        "outputId": "e004456e-2e34-4ffa-adf7-8c20f34fd91f"
      },
      "source": [
        "accuracy_score(check,prediction)"
      ],
      "execution_count": 197,
      "outputs": [
        {
          "output_type": "execute_result",
          "data": {
            "text/plain": [
              "0.7313585291113381"
            ]
          },
          "metadata": {
            "tags": []
          },
          "execution_count": 197
        }
      ]
    },
    {
      "cell_type": "code",
      "metadata": {
        "id": "S-h_j23HTE-C"
      },
      "source": [
        ""
      ],
      "execution_count": 197,
      "outputs": []
    }
  ]
}